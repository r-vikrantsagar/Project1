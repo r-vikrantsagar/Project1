{
 "cells": [
  {
   "cell_type": "markdown",
   "metadata": {},
   "source": [
    "# Import Packages & Data"
   ]
  },
  {
   "cell_type": "code",
   "execution_count": 1,
   "metadata": {},
   "outputs": [],
   "source": [
    "import pandas as pd\n",
    "import numpy as np\n",
    "import matplotlib as plt\n",
    "import seaborn as sns"
   ]
  },
  {
   "cell_type": "code",
   "execution_count": 2,
   "metadata": {},
   "outputs": [],
   "source": [
    "import numpy\n",
    "import pandas as pd\n",
    "import matplotlib.pyplot as plt\n",
    "import seaborn as sns\n",
    "from sklearn import preprocessing\n",
    "%matplotlib inline\n",
    "import warnings\n",
    "warnings.filterwarnings('ignore')\n",
    "from sklearn import metrics"
   ]
  },
  {
   "cell_type": "code",
   "execution_count": 3,
   "metadata": {},
   "outputs": [],
   "source": [
    "df = pd.read_csv('data/data.csv')"
   ]
  },
  {
   "cell_type": "code",
   "execution_count": 4,
   "metadata": {},
   "outputs": [
    {
     "data": {
      "text/html": [
       "<div>\n",
       "<style scoped>\n",
       "    .dataframe tbody tr th:only-of-type {\n",
       "        vertical-align: middle;\n",
       "    }\n",
       "\n",
       "    .dataframe tbody tr th {\n",
       "        vertical-align: top;\n",
       "    }\n",
       "\n",
       "    .dataframe thead th {\n",
       "        text-align: right;\n",
       "    }\n",
       "</style>\n",
       "<table border=\"1\" class=\"dataframe\">\n",
       "  <thead>\n",
       "    <tr style=\"text-align: right;\">\n",
       "      <th></th>\n",
       "      <th>Gender</th>\n",
       "      <th>Age</th>\n",
       "      <th>Waist</th>\n",
       "      <th>Exercise</th>\n",
       "      <th>SunlightExposure</th>\n",
       "      <th>MilkConsumption</th>\n",
       "      <th>Height</th>\n",
       "      <th>BodyFat</th>\n",
       "      <th>BMI</th>\n",
       "      <th>Weight</th>\n",
       "      <th>BoneMass</th>\n",
       "      <th>Outcome</th>\n",
       "    </tr>\n",
       "  </thead>\n",
       "  <tbody>\n",
       "    <tr>\n",
       "      <th>0</th>\n",
       "      <td>1</td>\n",
       "      <td>39</td>\n",
       "      <td>0.0</td>\n",
       "      <td>0.0</td>\n",
       "      <td>0</td>\n",
       "      <td>195.0</td>\n",
       "      <td>106.0</td>\n",
       "      <td>70.0</td>\n",
       "      <td>26.97</td>\n",
       "      <td>80.0</td>\n",
       "      <td>77.0</td>\n",
       "      <td>0</td>\n",
       "    </tr>\n",
       "    <tr>\n",
       "      <th>1</th>\n",
       "      <td>0</td>\n",
       "      <td>46</td>\n",
       "      <td>0.0</td>\n",
       "      <td>0.0</td>\n",
       "      <td>0</td>\n",
       "      <td>250.0</td>\n",
       "      <td>121.0</td>\n",
       "      <td>81.0</td>\n",
       "      <td>28.73</td>\n",
       "      <td>95.0</td>\n",
       "      <td>76.0</td>\n",
       "      <td>0</td>\n",
       "    </tr>\n",
       "    <tr>\n",
       "      <th>2</th>\n",
       "      <td>1</td>\n",
       "      <td>48</td>\n",
       "      <td>20.0</td>\n",
       "      <td>0.0</td>\n",
       "      <td>0</td>\n",
       "      <td>245.0</td>\n",
       "      <td>127.5</td>\n",
       "      <td>80.0</td>\n",
       "      <td>25.34</td>\n",
       "      <td>75.0</td>\n",
       "      <td>70.0</td>\n",
       "      <td>0</td>\n",
       "    </tr>\n",
       "    <tr>\n",
       "      <th>3</th>\n",
       "      <td>0</td>\n",
       "      <td>61</td>\n",
       "      <td>30.0</td>\n",
       "      <td>0.0</td>\n",
       "      <td>1</td>\n",
       "      <td>225.0</td>\n",
       "      <td>150.0</td>\n",
       "      <td>95.0</td>\n",
       "      <td>28.58</td>\n",
       "      <td>65.0</td>\n",
       "      <td>103.0</td>\n",
       "      <td>1</td>\n",
       "    </tr>\n",
       "    <tr>\n",
       "      <th>4</th>\n",
       "      <td>0</td>\n",
       "      <td>46</td>\n",
       "      <td>23.0</td>\n",
       "      <td>0.0</td>\n",
       "      <td>0</td>\n",
       "      <td>285.0</td>\n",
       "      <td>130.0</td>\n",
       "      <td>84.0</td>\n",
       "      <td>23.10</td>\n",
       "      <td>85.0</td>\n",
       "      <td>85.0</td>\n",
       "      <td>0</td>\n",
       "    </tr>\n",
       "  </tbody>\n",
       "</table>\n",
       "</div>"
      ],
      "text/plain": [
       "   Gender  Age  Waist  Exercise  SunlightExposure  MilkConsumption  Height  \\\n",
       "0       1   39    0.0       0.0                 0            195.0   106.0   \n",
       "1       0   46    0.0       0.0                 0            250.0   121.0   \n",
       "2       1   48   20.0       0.0                 0            245.0   127.5   \n",
       "3       0   61   30.0       0.0                 1            225.0   150.0   \n",
       "4       0   46   23.0       0.0                 0            285.0   130.0   \n",
       "\n",
       "   BodyFat    BMI  Weight  BoneMass  Outcome  \n",
       "0     70.0  26.97    80.0      77.0        0  \n",
       "1     81.0  28.73    95.0      76.0        0  \n",
       "2     80.0  25.34    75.0      70.0        0  \n",
       "3     95.0  28.58    65.0     103.0        1  \n",
       "4     84.0  23.10    85.0      85.0        0  "
      ]
     },
     "execution_count": 4,
     "metadata": {},
     "output_type": "execute_result"
    }
   ],
   "source": [
    "df.head()"
   ]
  },
  {
   "cell_type": "markdown",
   "metadata": {},
   "source": [
    "# DAta Processing"
   ]
  },
  {
   "cell_type": "code",
   "execution_count": 5,
   "metadata": {},
   "outputs": [],
   "source": [
    "features = df[['Gender','Age','Waist','Exercise','SunlightExposure','MilkConsumption','Height','BodyFat','BMI','Weight','BoneMass']]\n",
    "features = features.fillna(features.mean())\n",
    "input = features.values\n",
    "output = df[['Outcome']].values"
   ]
  },
  {
   "cell_type": "code",
   "execution_count": 6,
   "metadata": {},
   "outputs": [
    {
     "data": {
      "text/plain": [
       "array([[  1.  ,  39.  ,   0.  , ...,  26.97,  80.  ,  77.  ],\n",
       "       [  0.  ,  46.  ,   0.  , ...,  28.73,  95.  ,  76.  ],\n",
       "       [  1.  ,  48.  ,  20.  , ...,  25.34,  75.  ,  70.  ],\n",
       "       ...,\n",
       "       [  0.  ,  52.  ,   0.  , ...,  21.47,  80.  , 107.  ],\n",
       "       [  1.  ,  40.  ,   0.  , ...,  25.6 ,  67.  ,  72.  ],\n",
       "       [  0.  ,  39.  ,  30.  , ...,  20.91,  85.  ,  80.  ]])"
      ]
     },
     "execution_count": 6,
     "metadata": {},
     "output_type": "execute_result"
    }
   ],
   "source": [
    "input"
   ]
  },
  {
   "cell_type": "markdown",
   "metadata": {},
   "source": [
    "# Data Visualisation"
   ]
  },
  {
   "cell_type": "code",
   "execution_count": 7,
   "metadata": {},
   "outputs": [
    {
     "data": {
      "image/png": "[encoded data removed]",
      "text/plain": [
       "<Figure size 1296x1080 with 12 Axes>"
      ]
     },
     "metadata": {
      "needs_background": "light"
     },
     "output_type": "display_data"
    }
   ],
   "source": [
    "import itertools\n",
    "from itertools import zip_longest\n",
    "columns=df.columns[:13]\n",
    "plt.subplots(figsize=(18,15))\n",
    "length=len(columns)\n",
    "for i,j in itertools.zip_longest(columns,range(length)):\n",
    "    plt.subplot((length/2),3,j+1)\n",
    "    plt.subplots_adjust(wspace=0.2,hspace=0.5)\n",
    "    df[i].hist(bins=20,edgecolor='black')\n",
    "    plt.title(i)\n",
    "plt.show()"
   ]
  },
  {
   "cell_type": "markdown",
   "metadata": {},
   "source": [
    "# Analysis Of Outcome"
   ]
  },
  {
   "cell_type": "code",
   "execution_count": 8,
   "metadata": {},
   "outputs": [
    {
     "data": {
      "image/png": "[encoded data removed]",
      "text/plain": [
       "<Figure size 1296x1080 with 8 Axes>"
      ]
     },
     "metadata": {
      "needs_background": "light"
     },
     "output_type": "display_data"
    }
   ],
   "source": [
    "pima1=df[df['Outcome']==1]\n",
    "columns=df.columns[:8]\n",
    "plt.subplots(figsize=(18,15))\n",
    "length=len(columns)\n",
    "for i,j in itertools.zip_longest(columns,range(length)):\n",
    "    plt.subplot((length/2),3,j+1)\n",
    "    plt.subplots_adjust(wspace=0.2,hspace=0.5)\n",
    "    pima1[i].hist(bins=20,edgecolor='black')\n",
    "    plt.title(i)\n",
    "plt.show()"
   ]
  },
  {
   "cell_type": "code",
   "execution_count": 9,
   "metadata": {},
   "outputs": [
    {
     "data": {
      "text/plain": [
       "Gender                 AxesSubplot(0.125,0.657941;0.133621x0.222059)\n",
       "Age                 AxesSubplot(0.285345,0.657941;0.133621x0.222059)\n",
       "Waist                AxesSubplot(0.44569,0.657941;0.133621x0.222059)\n",
       "Exercise            AxesSubplot(0.606034,0.657941;0.133621x0.222059)\n",
       "SunlightExposure    AxesSubplot(0.766379,0.657941;0.133621x0.222059)\n",
       "MilkConsumption        AxesSubplot(0.125,0.391471;0.133621x0.222059)\n",
       "Height              AxesSubplot(0.285345,0.391471;0.133621x0.222059)\n",
       "BodyFat              AxesSubplot(0.44569,0.391471;0.133621x0.222059)\n",
       "BMI                 AxesSubplot(0.606034,0.391471;0.133621x0.222059)\n",
       "Weight              AxesSubplot(0.766379,0.391471;0.133621x0.222059)\n",
       "BoneMass                  AxesSubplot(0.125,0.125;0.133621x0.222059)\n",
       "Outcome                AxesSubplot(0.285345,0.125;0.133621x0.222059)\n",
       "dtype: object"
      ]
     },
     "execution_count": 9,
     "metadata": {},
     "output_type": "execute_result"
    },
    {
     "data": {
      "image/png": "[encoded data removed]",
      "text/plain": [
       "<Figure size 1008x720 with 15 Axes>"
      ]
     },
     "metadata": {
      "needs_background": "light"
     },
     "output_type": "display_data"
    }
   ],
   "source": [
    "df.plot(kind= 'box' , subplots=True, layout=(3,5),figsize=(14,10))"
   ]
  },
  {
   "cell_type": "code",
   "execution_count": 10,
   "metadata": {},
   "outputs": [
    {
     "data": {
      "image/png": "[encoded data removed]",
      "text/plain": [
       "<Figure size 432x432 with 1 Axes>"
      ]
     },
     "metadata": {
      "needs_background": "light"
     },
     "output_type": "display_data"
    }
   ],
   "source": [
    "df['Outcome'].value_counts().plot(kind='bar', figsize=(6,6))\n",
    "plt.title('0 - Level1, 1 - Level2, 2 - Level3, 3 - Level4')\n",
    "plt.xlabel('Target')\n",
    "plt.ylabel('Frequency')\n",
    "plt.show()"
   ]
  },
  {
   "cell_type": "code",
   "execution_count": 11,
   "metadata": {},
   "outputs": [
    {
     "data": {
      "image/png": "[encoded data removed]",
      "text/plain": [
       "<Figure size 432x288 with 1 Axes>"
      ]
     },
     "metadata": {
      "needs_background": "light"
     },
     "output_type": "display_data"
    }
   ],
   "source": [
    "df.boxplot(column='Age',by='Outcome')\n",
    "plt.show()"
   ]
  },
  {
   "cell_type": "code",
   "execution_count": 12,
   "metadata": {},
   "outputs": [
    {
     "data": {
      "image/png": "[encoded data removed]",
      "text/plain": [
       "<Figure size 1008x216 with 1 Axes>"
      ]
     },
     "metadata": {
      "needs_background": "light"
     },
     "output_type": "display_data"
    }
   ],
   "source": [
    "plt.figure(figsize=(14,3))\n",
    "Insulin_plt = df.groupby(df['Gender']).Outcome.count().reset_index()\n",
    "sns.distplot(df[df.Outcome == 0]['Gender'], color='red', kde=False, label='Level 0')\n",
    "sns.distplot(df[df.Outcome == 1]['Gender'], color='green', kde=False, label='Level 1')\n",
    "plt.legend()\n",
    "plt.title('Histogram of Gender values depending in the class')\n",
    "plt.show()"
   ]
  },
  {
   "cell_type": "code",
   "execution_count": 13,
   "metadata": {},
   "outputs": [],
   "source": [
    "from sklearn.model_selection import train_test_split\n",
    "from sklearn.preprocessing import MinMaxScaler\n",
    "from sklearn.metrics import confusion_matrix,classification_report\n",
    "from sklearn.model_selection import cross_val_score\n",
    "from sklearn.metrics import classification_report\n",
    "from sklearn.metrics import confusion_matrix\n",
    "from sklearn.metrics import accuracy_score\n",
    "from sklearn.model_selection import train_test_split"
   ]
  },
  {
   "cell_type": "code",
   "execution_count": 14,
   "metadata": {},
   "outputs": [],
   "source": [
    "X_train, X_test, y_train, y_test = train_test_split(input, output, test_size=0.3, random_state=101)"
   ]
  },
  {
   "cell_type": "markdown",
   "metadata": {},
   "source": [
    "# OverSampling with SMOTE"
   ]
  },
  {
   "cell_type": "code",
   "execution_count": 15,
   "metadata": {},
   "outputs": [],
   "source": [
    "from imblearn.over_sampling import SMOTE\n",
    "sm = SMOTE(random_state=2)\n",
    "X_train , Y_train = sm.fit_sample(X_train, y_train.ravel())"
   ]
  },
  {
   "cell_type": "code",
   "execution_count": 16,
   "metadata": {},
   "outputs": [
    {
     "name": "stdout",
     "output_type": "stream",
     "text": [
      "After OverSampling, the shape of train_X: (8972, 11)\n",
      "After OverSampling, the shape of train_y: (8972,) \n",
      "\n"
     ]
    }
   ],
   "source": [
    "print('After OverSampling, the shape of train_X: {}'.format(X_train.shape))\n",
    "print('After OverSampling, the shape of train_y: {} \\n'.format(Y_train.shape))"
   ]
  },
  {
   "cell_type": "markdown",
   "metadata": {},
   "source": [
    "# Support Vector Machine"
   ]
  },
  {
   "cell_type": "code",
   "execution_count": 17,
   "metadata": {},
   "outputs": [
    {
     "name": "stdout",
     "output_type": "stream",
     "text": [
      "*Accuracy score for SVM:  17.92452830188679 \n",
      "\n",
      "*Confusion Matrix for SVM: \n",
      "[[ 73 290 154 462]\n",
      " [  5 115  20  47]\n",
      " [  5  14  14  19]\n",
      " [  7  11  10  26]]\n",
      "*Classification Report for SVM: \n",
      "              precision    recall  f1-score   support\n",
      "\n",
      "           0       0.81      0.07      0.14       979\n",
      "           1       0.27      0.61      0.37       187\n",
      "           2       0.07      0.27      0.11        52\n",
      "           3       0.05      0.48      0.09        54\n",
      "\n",
      "    accuracy                           0.18      1272\n",
      "   macro avg       0.30      0.36      0.18      1272\n",
      "weighted avg       0.67      0.18      0.17      1272\n",
      "\n"
     ]
    }
   ],
   "source": [
    "from sklearn.svm import SVC\n",
    "SVM = SVC()\n",
    "SVM.fit(X_train, Y_train)\n",
    "predictions = SVM.predict(X_test)\n",
    "val1 = (accuracy_score(y_test, predictions)*100)\n",
    "print(\"*Accuracy score for SVM: \", val1, \"\\n\")\n",
    "print(\"*Confusion Matrix for SVM: \")\n",
    "print(confusion_matrix(y_test, predictions))\n",
    "print(\"*Classification Report for SVM: \")\n",
    "print(classification_report(y_test, predictions))"
   ]
  },
  {
   "cell_type": "markdown",
   "metadata": {},
   "source": [
    "# Random Forest Classifier"
   ]
  },
  {
   "cell_type": "code",
   "execution_count": 18,
   "metadata": {},
   "outputs": [
    {
     "name": "stdout",
     "output_type": "stream",
     "text": [
      "*Accuracy score for RF:  72.16981132075472 \n",
      "\n",
      "*Confusion Matrix for RF: \n",
      "[[875  76  23   5]\n",
      " [142  41   1   3]\n",
      " [ 47   3   2   0]\n",
      " [ 50   1   3   0]]\n",
      "*Classification Report for RF: \n",
      "              precision    recall  f1-score   support\n",
      "\n",
      "           0       0.79      0.89      0.84       979\n",
      "           1       0.34      0.22      0.27       187\n",
      "           2       0.07      0.04      0.05        52\n",
      "           3       0.00      0.00      0.00        54\n",
      "\n",
      "    accuracy                           0.72      1272\n",
      "   macro avg       0.30      0.29      0.29      1272\n",
      "weighted avg       0.66      0.72      0.68      1272\n",
      "\n"
     ]
    }
   ],
   "source": [
    "from sklearn.ensemble import RandomForestClassifier\n",
    "RF = RandomForestClassifier()\n",
    "RF.fit(X_train, Y_train)\n",
    "predictions = RF.predict(X_test)\n",
    "val2 = (accuracy_score(y_test, predictions)*100)\n",
    "print(\"*Accuracy score for RF: \", val2, \"\\n\")\n",
    "print(\"*Confusion Matrix for RF: \")\n",
    "print(confusion_matrix(y_test, predictions))\n",
    "print(\"*Classification Report for RF: \")\n",
    "print(classification_report(y_test, predictions))"
   ]
  },
  {
   "cell_type": "markdown",
   "metadata": {},
   "source": [
    "# DecisionTreeClassifier"
   ]
  },
  {
   "cell_type": "code",
   "execution_count": 19,
   "metadata": {},
   "outputs": [
    {
     "name": "stdout",
     "output_type": "stream",
     "text": [
      "*Accuracy score for DT:  56.60377358490566 \n",
      "\n",
      "*Confusion Matrix for DT: \n",
      "[[658 164  86  71]\n",
      " [109  54  13  11]\n",
      " [ 36   7   6   3]\n",
      " [ 42   5   5   2]]\n",
      "*Classification Report for DT: \n",
      "              precision    recall  f1-score   support\n",
      "\n",
      "           0       0.78      0.67      0.72       979\n",
      "           1       0.23      0.29      0.26       187\n",
      "           2       0.05      0.12      0.07        52\n",
      "           3       0.02      0.04      0.03        54\n",
      "\n",
      "    accuracy                           0.57      1272\n",
      "   macro avg       0.27      0.28      0.27      1272\n",
      "weighted avg       0.64      0.57      0.60      1272\n",
      "\n"
     ]
    }
   ],
   "source": [
    "from sklearn.tree import DecisionTreeClassifier\n",
    "DT = DecisionTreeClassifier()\n",
    "DT.fit(X_train, Y_train)\n",
    "predictions = DT.predict(X_test)\n",
    "val3 = (accuracy_score(y_test, predictions)*100)\n",
    "print(\"*Accuracy score for DT: \", val3, \"\\n\")\n",
    "print(\"*Confusion Matrix for DT: \")\n",
    "print(confusion_matrix(y_test, predictions))\n",
    "print(\"*Classification Report for DT: \")\n",
    "print(classification_report(y_test, predictions))"
   ]
  },
  {
   "cell_type": "markdown",
   "metadata": {},
   "source": [
    "# KNeighborsClassifier"
   ]
  },
  {
   "cell_type": "code",
   "execution_count": 20,
   "metadata": {},
   "outputs": [
    {
     "name": "stdout",
     "output_type": "stream",
     "text": [
      "*Accuracy score for KNN:  41.74528301886792 \n",
      "\n",
      "*Confusion Matrix for KNN: \n",
      "[[427 243 134 175]\n",
      " [ 49  82  30  26]\n",
      " [ 22  11  13   6]\n",
      " [ 24  12   9   9]]\n",
      "*Classification Report for KNN: \n",
      "              precision    recall  f1-score   support\n",
      "\n",
      "           0       0.82      0.44      0.57       979\n",
      "           1       0.24      0.44      0.31       187\n",
      "           2       0.07      0.25      0.11        52\n",
      "           3       0.04      0.17      0.07        54\n",
      "\n",
      "    accuracy                           0.42      1272\n",
      "   macro avg       0.29      0.32      0.26      1272\n",
      "weighted avg       0.67      0.42      0.49      1272\n",
      "\n"
     ]
    }
   ],
   "source": [
    "from sklearn.neighbors import KNeighborsClassifier\n",
    "KNN = KNeighborsClassifier()\n",
    "KNN.fit(X_train, Y_train)\n",
    "predictions = KNN.predict(X_test)\n",
    "val4 = (accuracy_score(y_test, predictions)*100)\n",
    "print(\"*Accuracy score for KNN: \", val4, \"\\n\")\n",
    "print(\"*Confusion Matrix for KNN: \")\n",
    "print(confusion_matrix(y_test, predictions))\n",
    "print(\"*Classification Report for KNN: \")\n",
    "print(classification_report(y_test, predictions))"
   ]
  },
  {
   "cell_type": "markdown",
   "metadata": {},
   "source": [
    "# LogisticRegression"
   ]
  },
  {
   "cell_type": "code",
   "execution_count": 21,
   "metadata": {},
   "outputs": [
    {
     "name": "stdout",
     "output_type": "stream",
     "text": [
      "*Accuracy score for LR:  24.056603773584907 \n",
      "\n",
      "*Confusion Matrix for LR: \n",
      "[[176 294 239 270]\n",
      " [ 19  95  43  30]\n",
      " [ 14  15  17   6]\n",
      " [  9  18   9  18]]\n",
      "*Classification Report for LR: \n",
      "              precision    recall  f1-score   support\n",
      "\n",
      "           0       0.81      0.18      0.29       979\n",
      "           1       0.23      0.51      0.31       187\n",
      "           2       0.06      0.33      0.09        52\n",
      "           3       0.06      0.33      0.10        54\n",
      "\n",
      "    accuracy                           0.24      1272\n",
      "   macro avg       0.29      0.34      0.20      1272\n",
      "weighted avg       0.66      0.24      0.28      1272\n",
      "\n"
     ]
    }
   ],
   "source": [
    "from sklearn.linear_model import LogisticRegression\n",
    "LR = LogisticRegression()\n",
    "LR.fit(X_train, Y_train)\n",
    "predictions = LR.predict(X_test)\n",
    "val5 = (accuracy_score(y_test, predictions)*100)\n",
    "print(\"*Accuracy score for LR: \", val5, \"\\n\")\n",
    "print(\"*Confusion Matrix for LR: \")\n",
    "print(confusion_matrix(y_test, predictions))\n",
    "print(\"*Classification Report for LR: \")\n",
    "print(classification_report(y_test, predictions))"
   ]
  },
  {
   "cell_type": "markdown",
   "metadata": {},
   "source": [
    "# MLP - ANN Classifier"
   ]
  },
  {
   "cell_type": "code",
   "execution_count": 22,
   "metadata": {},
   "outputs": [
    {
     "name": "stdout",
     "output_type": "stream",
     "text": [
      "*Accuracy score for MLP:  30.50314465408805 \n",
      "\n",
      "*Confusion Matrix for MLP: \n",
      "[[272 289  78 340]\n",
      " [ 30  95  19  43]\n",
      " [ 24  12   5  11]\n",
      " [ 16  18   4  16]]\n",
      "*Classification Report for MLP: \n",
      "              precision    recall  f1-score   support\n",
      "\n",
      "           0       0.80      0.28      0.41       979\n",
      "           1       0.23      0.51      0.32       187\n",
      "           2       0.05      0.10      0.06        52\n",
      "           3       0.04      0.30      0.07        54\n",
      "\n",
      "    accuracy                           0.31      1272\n",
      "   macro avg       0.28      0.29      0.22      1272\n",
      "weighted avg       0.65      0.31      0.37      1272\n",
      "\n"
     ]
    }
   ],
   "source": [
    "from sklearn.neural_network import MLPClassifier\n",
    "MLP = MLPClassifier()\n",
    "MLP.fit(X_train, Y_train)\n",
    "predictions = MLP.predict(X_test)\n",
    "val6 = (accuracy_score(y_test, predictions)*100)\n",
    "print(\"*Accuracy score for MLP: \", val6, \"\\n\")\n",
    "print(\"*Confusion Matrix for MLP: \")\n",
    "print(confusion_matrix(y_test, predictions))\n",
    "print(\"*Classification Report for MLP: \")\n",
    "print(classification_report(y_test, predictions))"
   ]
  },
  {
   "cell_type": "markdown",
   "metadata": {},
   "source": [
    "# SGD Classifier"
   ]
  },
  {
   "cell_type": "code",
   "execution_count": 23,
   "metadata": {},
   "outputs": [
    {
     "name": "stdout",
     "output_type": "stream",
     "text": [
      "*Accuracy score for SGD:  4.245283018867925 \n",
      "\n",
      "*Confusion Matrix for SGD: \n",
      "[[  0   0   0 979]\n",
      " [  0   0   0 187]\n",
      " [  0   0   0  52]\n",
      " [  0   0   0  54]]\n",
      "*Classification Report for SGD: \n",
      "              precision    recall  f1-score   support\n",
      "\n",
      "           0       0.00      0.00      0.00       979\n",
      "           1       0.00      0.00      0.00       187\n",
      "           2       0.00      0.00      0.00        52\n",
      "           3       0.04      1.00      0.08        54\n",
      "\n",
      "    accuracy                           0.04      1272\n",
      "   macro avg       0.01      0.25      0.02      1272\n",
      "weighted avg       0.00      0.04      0.00      1272\n",
      "\n"
     ]
    }
   ],
   "source": [
    "from sklearn.linear_model import SGDClassifier\n",
    "clf = SGDClassifier(loss=\"hinge\", penalty=\"l2\", max_iter=5)\n",
    "clf.fit(X_train, Y_train)\n",
    "predictions = clf.predict(X_test)\n",
    "val7 = (accuracy_score(y_test, predictions)*100)\n",
    "print(\"*Accuracy score for SGD: \", val7, \"\\n\")\n",
    "print(\"*Confusion Matrix for SGD: \")\n",
    "print(confusion_matrix(y_test, predictions))\n",
    "print(\"*Classification Report for SGD: \")\n",
    "print(classification_report(y_test, predictions))"
   ]
  },
  {
   "cell_type": "markdown",
   "metadata": {},
   "source": [
    "# GaussianNB"
   ]
  },
  {
   "cell_type": "code",
   "execution_count": 24,
   "metadata": {},
   "outputs": [
    {
     "name": "stdout",
     "output_type": "stream",
     "text": [
      "*Accuracy score for GNB:  14.779874213836477 \n",
      "\n",
      "*Confusion Matrix for GNB: \n",
      "[[ 84 144 184 567]\n",
      " [ 17  71  30  69]\n",
      " [  7   7   7  31]\n",
      " [  7   7  14  26]]\n",
      "*Classification Report for GNB: \n",
      "              precision    recall  f1-score   support\n",
      "\n",
      "           0       0.73      0.09      0.15       979\n",
      "           1       0.31      0.38      0.34       187\n",
      "           2       0.03      0.13      0.05        52\n",
      "           3       0.04      0.48      0.07        54\n",
      "\n",
      "    accuracy                           0.15      1272\n",
      "   macro avg       0.28      0.27      0.15      1272\n",
      "weighted avg       0.61      0.15      0.17      1272\n",
      "\n"
     ]
    }
   ],
   "source": [
    "from sklearn.naive_bayes import GaussianNB\n",
    "GNB = GaussianNB()\n",
    "GNB.fit(X_train, Y_train)\n",
    "predictions = GNB.predict(X_test)\n",
    "val8 = (accuracy_score(y_test, predictions)*100)\n",
    "print(\"*Accuracy score for GNB: \", val8, \"\\n\")\n",
    "print(\"*Confusion Matrix for GNB: \")\n",
    "print(confusion_matrix(y_test, predictions))\n",
    "print(\"*Classification Report for GNB: \")\n",
    "print(classification_report(y_test, predictions))"
   ]
  },
  {
   "cell_type": "markdown",
   "metadata": {},
   "source": [
    "# Extra Trees Classifier"
   ]
  },
  {
   "cell_type": "code",
   "execution_count": 25,
   "metadata": {},
   "outputs": [
    {
     "name": "stdout",
     "output_type": "stream",
     "text": [
      "*Accuracy score for ET:  73.27044025157232 \n",
      "\n",
      "*Confusion Matrix for ET: \n",
      "[[893  58  22   6]\n",
      " [144  39   3   1]\n",
      " [ 46   5   0   1]\n",
      " [ 49   4   1   0]]\n",
      "*Classification Report for ET: \n",
      "              precision    recall  f1-score   support\n",
      "\n",
      "           0       0.79      0.91      0.85       979\n",
      "           1       0.37      0.21      0.27       187\n",
      "           2       0.00      0.00      0.00        52\n",
      "           3       0.00      0.00      0.00        54\n",
      "\n",
      "    accuracy                           0.73      1272\n",
      "   macro avg       0.29      0.28      0.28      1272\n",
      "weighted avg       0.66      0.73      0.69      1272\n",
      "\n"
     ]
    }
   ],
   "source": [
    "from sklearn.ensemble import ExtraTreesClassifier\n",
    "ET = ExtraTreesClassifier(n_estimators=100, random_state=0)\n",
    "ET.fit(X_train, Y_train)\n",
    "predictions = ET.predict(X_test)\n",
    "val9 = (accuracy_score(y_test, predictions)*100)\n",
    "print(\"*Accuracy score for ET: \", val9, \"\\n\")\n",
    "print(\"*Confusion Matrix for ET: \")\n",
    "print(confusion_matrix(y_test, predictions))\n",
    "print(\"*Classification Report for ET: \")\n",
    "print(classification_report(y_test, predictions))"
   ]
  },
  {
   "cell_type": "markdown",
   "metadata": {},
   "source": [
    "# Gradient Boosting Classifier"
   ]
  },
  {
   "cell_type": "code",
   "execution_count": 26,
   "metadata": {},
   "outputs": [
    {
     "name": "stdout",
     "output_type": "stream",
     "text": [
      "Accuracy: 0.6839622641509434\n",
      "Confusion Matrix\n",
      "[[817 133  44  47]\n",
      " [102  48   4   5]\n",
      " [ 37   2   4   1]\n",
      " [ 23   4   0   1]]\n",
      "*Classification Report for GB \n",
      "              precision    recall  f1-score   support\n",
      "\n",
      "           0       0.78      0.83      0.81       979\n",
      "           1       0.30      0.26      0.28       187\n",
      "           2       0.09      0.08      0.08        52\n",
      "           3       0.04      0.02      0.02        54\n",
      "\n",
      "    accuracy                           0.68      1272\n",
      "   macro avg       0.30      0.30      0.30      1272\n",
      "weighted avg       0.65      0.68      0.67      1272\n",
      "\n"
     ]
    }
   ],
   "source": [
    "from sklearn.ensemble import GradientBoostingClassifier\n",
    "GB = GradientBoostingClassifier().fit(X_train, Y_train)\n",
    "pred = GB.predict(X_test)\n",
    "val10 = (GB.score(X_test, y_test)) * 100\n",
    "print(\"Accuracy: %s\" % str(GB.score(X_test, y_test)))\n",
    "print(\"Confusion Matrix\")\n",
    "print(confusion_matrix(pred, y_test))\n",
    "print(\"*Classification Report for GB \")\n",
    "print(classification_report(y_test, pred))"
   ]
  },
  {
   "cell_type": "markdown",
   "metadata": {},
   "source": [
    "# AdaBoostClassifier"
   ]
  },
  {
   "cell_type": "code",
   "execution_count": 27,
   "metadata": {},
   "outputs": [
    {
     "name": "stdout",
     "output_type": "stream",
     "text": [
      "Accuracy: 0.5550314465408805\n",
      "Confusion Matrix\n",
      "[[610  86  35  29]\n",
      " [207  84   7  13]\n",
      " [ 99  11   7   7]\n",
      " [ 63   6   3   5]]\n",
      "*Classification Report for AB \n",
      "              precision    recall  f1-score   support\n",
      "\n",
      "           0       0.80      0.62      0.70       979\n",
      "           1       0.27      0.45      0.34       187\n",
      "           2       0.06      0.13      0.08        52\n",
      "           3       0.06      0.09      0.08        54\n",
      "\n",
      "    accuracy                           0.56      1272\n",
      "   macro avg       0.30      0.32      0.30      1272\n",
      "weighted avg       0.66      0.56      0.60      1272\n",
      "\n"
     ]
    }
   ],
   "source": [
    "from sklearn.ensemble import AdaBoostClassifier\n",
    "AB = AdaBoostClassifier().fit(X_train, Y_train)\n",
    "pred = AB.predict(X_test)\n",
    "val11 = (AB.score(X_test, y_test)) * 100\n",
    "print(\"Accuracy: %s\" % str(AB.score(X_test, y_test)))\n",
    "print(\"Confusion Matrix\")\n",
    "print(confusion_matrix(pred, y_test))\n",
    "print(\"*Classification Report for AB \")\n",
    "print(classification_report(y_test, pred))"
   ]
  },
  {
   "cell_type": "markdown",
   "metadata": {},
   "source": [
    "# Accuracy Comparsion"
   ]
  },
  {
   "cell_type": "code",
   "execution_count": 28,
   "metadata": {},
   "outputs": [
    {
     "data": {
      "image/png": "[encoded data removed]",
      "text/plain": [
       "<Figure size 864x576 with 1 Axes>"
      ]
     },
     "metadata": {
      "needs_background": "light"
     },
     "output_type": "display_data"
    }
   ],
   "source": [
    "import numpy as np\n",
    "import pandas as pd\n",
    "import matplotlib.pyplot as plt\n",
    "\n",
    "# Bring some raw data.\n",
    "frequencies = [val1,val2,val3,val4,val5,val6,val8,val7,val9,val10,val11]\n",
    "\n",
    "# In my original code I create a series and run on that,\n",
    "# so for consistency I create a series from the list.\n",
    "freq_series = pd.Series(frequencies)\n",
    "\n",
    "x_labels = ['SVM', 'RF','DT','KNN','LR','MLP-ANN','GNB','SGD','ET','GB','AB']\n",
    "\n",
    "# Plot the figure.\n",
    "plt.figure(figsize=(12, 8))\n",
    "ax = freq_series.plot(kind='bar')\n",
    "ax.set_title('Evaluation of ML & DL')\n",
    "ax.set_xlabel('Classifier!')\n",
    "ax.set_ylabel('Accuracy Range')\n",
    "ax.set_xticklabels(x_labels)\n",
    "\n",
    "\n",
    "def add_value_labels(ax, spacing=5):\n",
    "    \"\"\"Add labels to the end of each bar in a bar chart.\n",
    "\n",
    "    Arguments:\n",
    "        ax (matplotlib.axes.Axes): The matplotlib object containing the axes\n",
    "            of the plot to annotate.\n",
    "        spacing (int): The distance between the labels and the bars.\n",
    "    \"\"\"\n",
    "\n",
    "    # For each bar: Place a label\n",
    "    for rect in ax.patches:\n",
    "        # Get X and Y placement of label from rect.\n",
    "        y_value = rect.get_height()\n",
    "        x_value = rect.get_x() + rect.get_width() / 2\n",
    "\n",
    "        # Number of points between bar and label. Change to your liking.\n",
    "        space = spacing\n",
    "        # Vertical alignment for positive values\n",
    "        va = 'bottom'\n",
    "\n",
    "        # If value of bar is negative: Place label below bar\n",
    "        if y_value < 0:\n",
    "            # Invert space to place label below\n",
    "            space *= -1\n",
    "            # Vertically align label at top\n",
    "            va = 'top'\n",
    "\n",
    "        # Use Y value as label and format number with one decimal place\n",
    "        label = \"{:.1f}\".format(y_value)\n",
    "\n",
    "        # Create annotation\n",
    "        ax.annotate(\n",
    "            label,                      # Use `label` as label\n",
    "            (x_value, y_value),         # Place label at end of the bar\n",
    "            xytext=(0, space),          # Vertically shift label by `space`\n",
    "            textcoords=\"offset points\", # Interpret `xytext` as offset in points\n",
    "            ha='center',                # Horizontally center label\n",
    "            va=va)                      # Vertically align label differently for\n",
    "                                        # positive and negative values.\n",
    "\n",
    "\n",
    "# Call the function above. All the magic happens there.\n",
    "add_value_labels(ax)\n",
    "plt.show()\n",
    "#plt.savefig(\"image.png\")"
   ]
  },
  {
   "cell_type": "code",
   "execution_count": 29,
   "metadata": {},
   "outputs": [
    {
     "data": {
      "text/plain": [
       "['data/model_RF.sav']"
      ]
     },
     "execution_count": 29,
     "metadata": {},
     "output_type": "execute_result"
    }
   ],
   "source": [
    "import joblib\n",
    "filename = 'data/model_RF.sav'\n",
    "joblib.dump(RF, filename)"
   ]
  },
  {
   "cell_type": "code",
   "execution_count": 30,
   "metadata": {},
   "outputs": [
    {
     "data": {
      "text/plain": [
       "['data/model_ET.sav']"
      ]
     },
     "execution_count": 30,
     "metadata": {},
     "output_type": "execute_result"
    }
   ],
   "source": [
    "import joblib\n",
    "filename = 'data/model_ET.sav'\n",
    "joblib.dump(ET, filename)"
   ]
  },
  {
   "cell_type": "code",
   "execution_count": null,
   "metadata": {},
   "outputs": [],
   "source": []
  }
 ],
 "metadata": {
  "kernelspec": {
   "display_name": "Python 3",
   "language": "python",
   "name": "python3"
  },
  "language_info": {
   "codemirror_mode": {
    "name": "ipython",
    "version": 3
   },
   "file_extension": ".py",
   "mimetype": "text/x-python",
   "name": "python",
   "nbconvert_exporter": "python",
   "pygments_lexer": "ipython3",
   "version": "3.8.3"
  }
 },
 "nbformat": 4,
 "nbformat_minor": 4
}
